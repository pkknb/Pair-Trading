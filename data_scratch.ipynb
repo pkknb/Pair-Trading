{
 "cells": [
  {
   "cell_type": "code",
   "execution_count": null,
   "metadata": {},
   "outputs": [
    {
     "name": "stdout",
     "output_type": "stream",
     "text": [
      "Welcome to use Wind Quant API for Python (WindPy)!\n",
      "\n",
      "COPYRIGHT (C) 2024 WIND INFORMATION CO., LTD. ALL RIGHTS RESERVED.\n",
      "IN NO CIRCUMSTANCE SHALL WIND BE RESPONSIBLE FOR ANY DAMAGES OR LOSSES CAUSED BY USING WIND QUANT API FOR Python.\n"
     ]
    }
   ],
   "source": [
    "from WindPy import w\n",
    "w.start()  \n",
    "w.isconnected() \n",
    "\n",
    "futures_list = [\n",
    "    \"A.DCE\", \"AG.SHF\", \"AL.SHF\", \"AO.SHF\", \"AP.CZC\", \"AU.SHF\", \"B.DCE\",\"BB.DCE\", \n",
    "    \"BR.SHF\", \"BU.SHF\", \"C.DCE\", \"CF.CZC\", \"CJ.CZC\", \"CS.DCE\",\"CU.SHF\", \n",
    "    \"CY.CZC\", \"EB.DCE\", \"EG.DCE\", \"FB.DCE\", \"FG.CZC\",\"FU.SHF\", \"HC.SHF\", \"I.DCE\", \"IM_S.SHF\"\n",
    "    \"J.DCE\", \"JD.DCE\", \"JM.DCE\", \"JR.CZC\", \"L.DCE\", \"LH.DCE\", \"LR.CZC\",\n",
    "    \"M.DCE\", \"MA.CZC\", \"NI.SHF\", \"NR.INE\", \"OI.CZC\", \"P.DCE\", \"PB.SHF\",\n",
    "    \"PF.CZC\", \"PG.DCE\", \"PK.CZC\", \"PM.CZC\", \"PP.DCE\", \"PX.CZC\", \"RB.SHF\", \"RI.CZC\",\n",
    "    \"RM.CZC\", \"RR.DCE\", \"RS.CZC\", \"RU.SHF\", \"SA.CZC\",\"SF.CZC\",\n",
    "    \"SH.CZC\",  \"SM.CZC\", \"SN.SHF\", \"SP.SHF\", \"SR.CZC\", \"SS.SHF\",\n",
    "    \"TA.CZC\", \"UR.CZC\", \"V.DCE\", \"WH.CZC\", \"WR.SHF\", \"Y.DCE\", \"ZC.CZC\", \"ZN.SHF\"\n",
    "]\n",
    "\n",
    "symbol = \"close, high, low, volume, amt, pct_chg, swing, oi, anal_basis, basisannualyield, anal_basispercent2, ftdate, lasttrade_date, contractmultiplier, trade_hiscode\"\n",
    "# 收盘价，最高价，最低价，成交量，成交额，涨跌幅，振幅，基差，基差年化收益率，基差率，开始交易日，最后交易日，合约乘数，月合约代码\n",
    "for future in futures_list:\n",
    "    error_code, df = w.wsd(future, symbol, \"2018-01-01\", \"2024-01-01\", \"Fill=Previous\", usedf=True)\n",
    "    variable_name = future.replace('.', '_') + \"_df\"\n",
    "    globals()[variable_name] = df\n",
    "\n"
   ]
  },
  {
   "cell_type": "code",
   "execution_count": null,
   "metadata": {},
   "outputs": [],
   "source": [
    "[fut_df.to_csv(f\"{fut_name}.csv\", index=True, encoding='utf-8') for fut_name, fut_df in globals().items() if fut_name.endswith('_df')]"
   ]
  }
 ],
 "metadata": {
  "language_info": {
   "name": "python"
  }
 },
 "nbformat": 4,
 "nbformat_minor": 2
}
